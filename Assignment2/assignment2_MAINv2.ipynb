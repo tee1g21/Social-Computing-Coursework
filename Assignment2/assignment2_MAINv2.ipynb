{
 "cells": [
  {
   "cell_type": "code",
   "execution_count": 3,
   "metadata": {},
   "outputs": [],
   "source": [
    "import numpy as np\n",
    "from tqdm import tqdm\n",
    "import random\n",
    "import sqlite3"
   ]
  },
  {
   "cell_type": "code",
   "execution_count": 4,
   "metadata": {},
   "outputs": [],
   "source": [
    "# import dataset from database\n",
    "def load_data(db_path):\n",
    "    conn = sqlite3.connect(db_path)\n",
    "    print(\"Loaded database\")\n",
    "\n",
    "    c = conn.cursor()\n",
    "    print(\"Fetching data ...\")\n",
    "    c.execute('SELECT UserID, ItemID, Rating FROM example_table')\n",
    "    data = c.fetchall()\n",
    "    conn.close()\n",
    "\n",
    "    user_indices = []\n",
    "    item_indices = []\n",
    "    ratings_values = []\n",
    "\n",
    "    max_user_id = 0\n",
    "    max_item_id = 0\n",
    "\n",
    "    for user_id, item_id, rating in data:\n",
    "        user_indices.append(user_id)\n",
    "        item_indices.append(item_id)\n",
    "        ratings_values.append(rating)\n",
    "        #ratings_values.append(int(rating * 2)) # convert ratings to integers\n",
    "        max_user_id = max(max_user_id, user_id)\n",
    "        max_item_id = max(max_item_id, item_id)\n",
    "\n",
    "    user_indices = np.array(user_indices, dtype=np.int32)\n",
    "    item_indices = np.array(item_indices, dtype=np.int32)\n",
    "    #ratings_values = np.array(ratings_values, dtype=np.int32)\n",
    "    ratings_values = np.array(ratings_values, dtype=np.float32)\n",
    "\n",
    "    print(\"Max user id:\", max_user_id)\n",
    "    print(\"Max item id:\", max_item_id)\n",
    "\n",
    "    return user_indices, item_indices, ratings_values, max_user_id, max_item_id\n",
    "\n",
    "#def normalize_ids(indices):\n",
    "#    unique_ids, inverse_indices = np.unique(indices, return_inverse=True)\n",
    "#    id_map = {original_id: idx for idx, original_id in enumerate(unique_ids)}\n",
    "#    reverse_map = {idx: original_id for idx, original_id in enumerate(unique_ids)}\n",
    "#    num_unique = len(unique_ids)  # The total number of unique indices\n",
    "#    return inverse_indices, num_unique, id_map, reverse_map\n",
    "\n",
    "def normalize_indices(indices):\n",
    "    unique_ids = np.unique(indices)\n",
    "    id_to_norm = {id_: i for i, id_ in enumerate(unique_ids)}\n",
    "    norm_to_id = {i: id_ for i, id_ in enumerate(unique_ids)}\n",
    "    normalized_indices = np.vectorize(id_to_norm.get)(indices)\n",
    "    num_unique = len(unique_ids)  # Total number of unique indices\n",
    "    return normalized_indices, num_unique, id_to_norm, norm_to_id\n",
    "\n",
    "# split into train and validation sets\n",
    "def split_data(user_indices, item_indices, ratings, split_ratio=0.9):\n",
    "    np.random.seed(42)\n",
    "    indices = np.random.permutation(len(ratings))\n",
    "    split_point = int(len(ratings) * split_ratio)\n",
    "    train_idx, val_idx = indices[:split_point], indices[split_point:]\n",
    "    \n",
    "    train_data = (user_indices[train_idx], item_indices[train_idx], ratings[train_idx])\n",
    "    val_data = (user_indices[val_idx], item_indices[val_idx], ratings[val_idx])\n",
    "    return train_data, val_data"
   ]
  },
  {
   "cell_type": "code",
   "execution_count": 5,
   "metadata": {},
   "outputs": [
    {
     "name": "stdout",
     "output_type": "stream",
     "text": [
      "Loaded database\n",
      "Fetching data ...\n",
      "Max user id: 138493\n",
      "Max item id: 26744\n",
      "Number of users: 138493\n",
      "Number of items: 26690\n",
      "Train data size: 16753799\n",
      "Validation data size: 1861534\n",
      "All data size: 18615333\n"
     ]
    }
   ],
   "source": [
    "# impor dataset\n",
    "\n",
    "path_100k = '../../data/dataset1/train_100k.db'\n",
    "path_20M = '../../data/dataset2/train_20M.db'\n",
    "\n",
    "u, i, global_ratings, global_max_user_id, global_max_item_id = load_data(path_20M)\n",
    "\n",
    "# Normalize user and item indices\n",
    "global_user_indices, global_num_users, user_to_norm, norm_to_user = normalize_indices(u)\n",
    "global_item_indices, global_num_items, item_to_norm, norm_to_item = normalize_indices(i)\n",
    "\n",
    "#global_num_users = np.unique(global_user_indices)\n",
    "#global_num_items = np.unique(global_item_indices)\n",
    "\n",
    "\n",
    "print(\"Number of users:\", global_num_users)\n",
    "print(\"Number of items:\", global_num_items)\n",
    "\n",
    "train_data, val_data = split_data(global_user_indices, global_item_indices, global_ratings, split_ratio=0.9)\n",
    "all_data, _ = split_data(global_user_indices, global_item_indices, global_ratings, split_ratio=1)\n",
    "\n",
    "print(\"Train data size:\",train_data[0].size)\n",
    "print(\"Validation data size:\",val_data[0].size)\n",
    "print(\"All data size:\",all_data[0].size)\n",
    "\n",
    "# train_data[0] = user_indices\n",
    "# train_data[1] = item_indices\n",
    "# train_data[2] = ratings\n"
   ]
  },
  {
   "cell_type": "markdown",
   "metadata": {},
   "source": [
    "# MAE and Prediction Code"
   ]
  },
  {
   "cell_type": "code",
   "execution_count": 13,
   "metadata": {},
   "outputs": [],
   "source": [
    "# MAE and predict methods\n",
    "def calculate_mae(actual, predicted):\n",
    "    \"\"\"\n",
    "    Parameters:\n",
    "    - actual_ratings: np.array, the actual ratings.\n",
    "    - predicted_ratings: np.array, the predicted ratings.\n",
    "    \"\"\"\n",
    "    # calculate the absolute error between actual and predicted ratings\n",
    "    abs_err = np.abs(actual - predicted)\n",
    "    \n",
    "    # calculate the mean of these absolute errors\n",
    "    mae = np.mean(abs_err)\n",
    "    \n",
    "    return mae # /2\n",
    "\n",
    "# round prediction to nearest 0.5 in range [0.5, 5]\n",
    "def round_predictions(predictions):\n",
    "    #rounded_predictions = np.round(predictions * 2) / 2\n",
    "    #return np.clip(rounded_predictions, 0.5, 5.0)\n",
    "    rounded_predictions = np.round(predictions)\n",
    "    return np.clip(rounded_predictions, 1, 5)\n",
    "\n",
    "def predict(user_features, item_features, user_indices, item_indices):\n",
    "    predictions = np.array([np.dot(user_features[u], item_features[i]) for u, i in zip(user_indices, item_indices)])\n",
    "    return predictions"
   ]
  },
  {
   "cell_type": "markdown",
   "metadata": {},
   "source": [
    "# SGD"
   ]
  },
  {
   "cell_type": "code",
   "execution_count": 7,
   "metadata": {},
   "outputs": [],
   "source": [
    "def sgd(user_indices, item_indices, ratings, num_users, num_items, num_factors, alpha, beta, iterations):\n",
    "    # Initialize feature matrices\n",
    "    np.random.seed(42)\n",
    "    user_features = np.random.normal(0, 0.1, (num_users, num_factors))\n",
    "    item_features = np.random.normal(0, 0.1, (num_items, num_factors))\n",
    "\n",
    "    # SGD updates (only using training data)\n",
    "    for iteration in range(iterations): #tqdm(range(iterations), desc='SGD iterations', total=iterations):\n",
    "        for u, i, r in tqdm(zip(user_indices, item_indices, ratings), desc=f'SGD {iteration+1}/{iterations}', total=len(ratings)):\n",
    "            prediction = np.dot(user_features[u], item_features[i])\n",
    "            error = r - prediction\n",
    "\n",
    "            # Update rules for features\n",
    "            user_features_grad = -2 * error * item_features[i] + beta * user_features[u]\n",
    "            item_features_grad = -2 * error * user_features[u] + beta * item_features[i]\n",
    "\n",
    "            user_features[u] -= alpha * user_features_grad\n",
    "            item_features[i] -= alpha * item_features_grad\n",
    "\n",
    "    return user_features, item_features"
   ]
  },
  {
   "cell_type": "code",
   "execution_count": null,
   "metadata": {},
   "outputs": [
    {
     "name": "stdout",
     "output_type": "stream",
     "text": [
      "Testing with 20 factors and alpha= 0.0025, beta= 0.01\n"
     ]
    },
    {
     "name": "stderr",
     "output_type": "stream",
     "text": [
      "SGD 1/4: 100%|██████████| 16753799/16753799 [05:09<00:00, 54130.02it/s]\n",
      "SGD 2/4: 100%|██████████| 16753799/16753799 [05:42<00:00, 48983.79it/s]\n",
      "SGD 3/4: 100%|██████████| 16753799/16753799 [05:33<00:00, 50262.52it/s]\n",
      "SGD 4/4: 100%|██████████| 16753799/16753799 [05:32<00:00, 50332.44it/s]\n"
     ]
    },
    {
     "name": "stdout",
     "output_type": "stream",
     "text": [
      "MAE: 0.6380184299615264\n",
      "\n",
      "Testing with 40 factors and alpha= 0.0025, beta= 0.01\n"
     ]
    },
    {
     "name": "stderr",
     "output_type": "stream",
     "text": [
      "SGD 1/4: 100%|██████████| 16753799/16753799 [05:30<00:00, 50749.35it/s]\n",
      "SGD 2/4: 100%|██████████| 16753799/16753799 [05:28<00:00, 51057.26it/s]\n",
      "SGD 3/4: 100%|██████████| 16753799/16753799 [05:26<00:00, 51329.36it/s]\n",
      "SGD 4/4: 100%|██████████| 16753799/16753799 [05:27<00:00, 51125.13it/s]\n"
     ]
    },
    {
     "name": "stdout",
     "output_type": "stream",
     "text": [
      "MAE: 0.6355709860792228\n",
      "\n",
      "Testing with 60 factors and alpha= 0.0025, beta= 0.01\n"
     ]
    },
    {
     "name": "stderr",
     "output_type": "stream",
     "text": [
      "SGD 1/4: 100%|██████████| 16753799/16753799 [05:30<00:00, 50761.32it/s]\n",
      "SGD 2/4: 100%|██████████| 16753799/16753799 [05:30<00:00, 50684.81it/s]\n",
      "SGD 3/4: 100%|██████████| 16753799/16753799 [05:28<00:00, 50968.96it/s]\n",
      "SGD 4/4: 100%|██████████| 16753799/16753799 [05:30<00:00, 50716.33it/s]\n"
     ]
    },
    {
     "name": "stdout",
     "output_type": "stream",
     "text": [
      "MAE: 0.6352333613030974\n",
      "\n",
      "Testing with 20 factors and alpha= 0.005, beta= 0.01\n"
     ]
    },
    {
     "name": "stderr",
     "output_type": "stream",
     "text": [
      "SGD 1/4: 100%|██████████| 16753799/16753799 [05:26<00:00, 51320.37it/s]\n",
      "SGD 2/4: 100%|██████████| 16753799/16753799 [05:12<00:00, 53670.67it/s]\n",
      "SGD 3/4: 100%|██████████| 16753799/16753799 [05:04<00:00, 54955.23it/s]\n",
      "SGD 4/4: 100%|██████████| 16753799/16753799 [05:06<00:00, 54701.74it/s]\n"
     ]
    },
    {
     "name": "stdout",
     "output_type": "stream",
     "text": [
      "MAE: 0.613132502548973\n",
      "\n",
      "Testing with 40 factors and alpha= 0.005, beta= 0.01\n"
     ]
    },
    {
     "name": "stderr",
     "output_type": "stream",
     "text": [
      "SGD 1/4: 100%|██████████| 16753799/16753799 [05:07<00:00, 54433.22it/s]\n",
      "SGD 2/4: 100%|██████████| 16753799/16753799 [05:06<00:00, 54606.31it/s]\n",
      "SGD 3/4: 100%|██████████| 16753799/16753799 [05:03<00:00, 55226.85it/s]\n",
      "SGD 4/4: 100%|██████████| 16753799/16753799 [04:48<00:00, 58038.66it/s]\n"
     ]
    },
    {
     "name": "stdout",
     "output_type": "stream",
     "text": [
      "MAE: 0.6104580953127904\n",
      "\n",
      "Testing with 60 factors and alpha= 0.005, beta= 0.01\n"
     ]
    },
    {
     "name": "stderr",
     "output_type": "stream",
     "text": [
      "SGD 1/4: 100%|██████████| 16753799/16753799 [04:49<00:00, 57856.60it/s]\n",
      "SGD 2/4: 100%|██████████| 16753799/16753799 [04:49<00:00, 57944.23it/s]\n",
      "SGD 3/4: 100%|██████████| 16753799/16753799 [04:49<00:00, 57894.55it/s]\n",
      "SGD 4/4: 100%|██████████| 16753799/16753799 [05:10<00:00, 54019.07it/s]\n"
     ]
    },
    {
     "name": "stdout",
     "output_type": "stream",
     "text": [
      "MAE: 0.6103334669149207\n",
      "\n",
      "Testing with 20 factors and alpha= 0.0075, beta= 0.01\n"
     ]
    },
    {
     "name": "stderr",
     "output_type": "stream",
     "text": [
      "SGD 1/4: 100%|██████████| 16753799/16753799 [05:17<00:00, 52693.02it/s]\n",
      "SGD 2/4: 100%|██████████| 16753799/16753799 [05:17<00:00, 52797.43it/s]\n",
      "SGD 3/4: 100%|██████████| 16753799/16753799 [05:16<00:00, 52858.79it/s]\n",
      "SGD 4/4: 100%|██████████| 16753799/16753799 [05:17<00:00, 52840.81it/s]\n"
     ]
    },
    {
     "name": "stdout",
     "output_type": "stream",
     "text": [
      "MAE: 0.6076633572096991\n",
      "\n",
      "Testing with 40 factors and alpha= 0.0075, beta= 0.01\n"
     ]
    },
    {
     "name": "stderr",
     "output_type": "stream",
     "text": [
      "SGD 1/4: 100%|██████████| 16753799/16753799 [05:18<00:00, 52647.15it/s]\n",
      "SGD 2/4: 100%|██████████| 16753799/16753799 [05:19<00:00, 52370.99it/s]\n",
      "SGD 3/4: 100%|██████████| 16753799/16753799 [05:18<00:00, 52590.12it/s]\n",
      "SGD 4/4: 100%|██████████| 16753799/16753799 [05:18<00:00, 52597.42it/s]\n"
     ]
    },
    {
     "name": "stdout",
     "output_type": "stream",
     "text": [
      "MAE: 0.6056733317790597\n",
      "\n",
      "Testing with 60 factors and alpha= 0.0075, beta= 0.01\n"
     ]
    },
    {
     "name": "stderr",
     "output_type": "stream",
     "text": [
      "SGD 1/4: 100%|██████████| 16753799/16753799 [05:19<00:00, 52453.32it/s]\n",
      "SGD 2/4: 100%|██████████| 16753799/16753799 [05:17<00:00, 52721.97it/s]\n",
      "SGD 3/4: 100%|██████████| 16753799/16753799 [05:19<00:00, 52511.12it/s]\n",
      "SGD 4/4: 100%|██████████| 16753799/16753799 [05:17<00:00, 52715.53it/s]\n"
     ]
    },
    {
     "name": "stdout",
     "output_type": "stream",
     "text": [
      "MAE: 0.6062940564072427\n",
      "\n",
      "Testing with 20 factors and alpha= 0.0025, beta= 0.03\n"
     ]
    },
    {
     "name": "stderr",
     "output_type": "stream",
     "text": [
      "SGD 1/4: 100%|██████████| 16753799/16753799 [05:16<00:00, 52977.21it/s]\n",
      "SGD 2/4: 100%|██████████| 16753799/16753799 [05:16<00:00, 52855.11it/s]\n",
      "SGD 3/4: 100%|██████████| 16753799/16753799 [05:17<00:00, 52848.63it/s]\n",
      "SGD 4/4: 100%|██████████| 16753799/16753799 [05:16<00:00, 53000.18it/s]\n"
     ]
    },
    {
     "name": "stdout",
     "output_type": "stream",
     "text": [
      "MAE: 0.6447322477053871\n",
      "\n",
      "Testing with 40 factors and alpha= 0.0025, beta= 0.03\n"
     ]
    },
    {
     "name": "stderr",
     "output_type": "stream",
     "text": [
      "SGD 1/4: 100%|██████████| 16753799/16753799 [05:18<00:00, 52639.20it/s]\n",
      "SGD 2/4: 100%|██████████| 16753799/16753799 [05:17<00:00, 52714.64it/s]\n",
      "SGD 3/4: 100%|██████████| 16753799/16753799 [05:17<00:00, 52799.42it/s]\n",
      "SGD 4/4: 100%|██████████| 16753799/16753799 [05:10<00:00, 53880.90it/s]\n"
     ]
    },
    {
     "name": "stdout",
     "output_type": "stream",
     "text": [
      "MAE: 0.6422958162461712\n",
      "\n",
      "Testing with 60 factors and alpha= 0.0025, beta= 0.03\n"
     ]
    },
    {
     "name": "stderr",
     "output_type": "stream",
     "text": [
      "SGD 1/4: 100%|██████████| 16753799/16753799 [05:00<00:00, 55778.90it/s]\n",
      "SGD 2/4: 100%|██████████| 16753799/16753799 [04:59<00:00, 55909.92it/s]\n",
      "SGD 3/4: 100%|██████████| 16753799/16753799 [05:00<00:00, 55793.06it/s]\n",
      "SGD 4/4: 100%|██████████| 16753799/16753799 [05:00<00:00, 55700.88it/s]\n"
     ]
    },
    {
     "name": "stdout",
     "output_type": "stream",
     "text": [
      "MAE: 0.6414156281862163\n",
      "\n",
      "Testing with 20 factors and alpha= 0.005, beta= 0.03\n"
     ]
    },
    {
     "name": "stderr",
     "output_type": "stream",
     "text": [
      "SGD 1/4: 100%|██████████| 16753799/16753799 [04:58<00:00, 56118.99it/s]\n",
      "SGD 2/4: 100%|██████████| 16753799/16753799 [04:54<00:00, 56851.24it/s]\n",
      "SGD 3/4: 100%|██████████| 16753799/16753799 [04:42<00:00, 59399.00it/s]\n",
      "SGD 4/4: 100%|██████████| 16753799/16753799 [04:41<00:00, 59613.54it/s]\n"
     ]
    },
    {
     "name": "stdout",
     "output_type": "stream",
     "text": [
      "MAE: 0.6183309034377025\n",
      "\n",
      "Testing with 40 factors and alpha= 0.005, beta= 0.03\n"
     ]
    },
    {
     "name": "stderr",
     "output_type": "stream",
     "text": [
      "SGD 1/4: 100%|██████████| 16753799/16753799 [04:41<00:00, 59436.19it/s]\n",
      "SGD 2/4: 100%|██████████| 16753799/16753799 [04:41<00:00, 59543.49it/s]\n",
      "SGD 3/4: 100%|██████████| 16753799/16753799 [04:42<00:00, 59346.86it/s]\n",
      "SGD 4/4: 100%|██████████| 16753799/16753799 [04:41<00:00, 59484.86it/s]\n"
     ]
    },
    {
     "name": "stdout",
     "output_type": "stream",
     "text": [
      "MAE: 0.6153282722743716\n",
      "\n",
      "Testing with 60 factors and alpha= 0.005, beta= 0.03\n"
     ]
    },
    {
     "name": "stderr",
     "output_type": "stream",
     "text": [
      "SGD 1/4: 100%|██████████| 16753799/16753799 [04:43<00:00, 59001.64it/s]\n",
      "SGD 2/4: 100%|██████████| 16753799/16753799 [04:43<00:00, 59083.41it/s]\n",
      "SGD 3/4: 100%|██████████| 16753799/16753799 [04:43<00:00, 59145.43it/s]\n",
      "SGD 4/4: 100%|██████████| 16753799/16753799 [04:43<00:00, 59050.78it/s]\n"
     ]
    },
    {
     "name": "stdout",
     "output_type": "stream",
     "text": [
      "MAE: 0.6146917005007698\n",
      "\n",
      "Testing with 20 factors and alpha= 0.0075, beta= 0.03\n"
     ]
    },
    {
     "name": "stderr",
     "output_type": "stream",
     "text": [
      "SGD 1/4: 100%|██████████| 16753799/16753799 [04:41<00:00, 59527.17it/s]\n",
      "SGD 2/4: 100%|██████████| 16753799/16753799 [04:40<00:00, 59629.97it/s]\n",
      "SGD 3/4: 100%|██████████| 16753799/16753799 [04:42<00:00, 59391.51it/s]\n",
      "SGD 4/4: 100%|██████████| 16753799/16753799 [04:41<00:00, 59506.04it/s]\n"
     ]
    },
    {
     "name": "stdout",
     "output_type": "stream",
     "text": [
      "MAE: 0.6108913401527987\n",
      "\n",
      "Testing with 40 factors and alpha= 0.0075, beta= 0.03\n"
     ]
    },
    {
     "name": "stderr",
     "output_type": "stream",
     "text": [
      "SGD 1/4: 100%|██████████| 16753799/16753799 [04:43<00:00, 59166.18it/s]\n",
      "SGD 2/4: 100%|██████████| 16753799/16753799 [04:43<00:00, 59124.30it/s]\n",
      "SGD 3/4: 100%|██████████| 16753799/16753799 [04:43<00:00, 59182.09it/s]\n",
      "SGD 4/4: 100%|██████████| 16753799/16753799 [04:43<00:00, 59164.70it/s]\n"
     ]
    },
    {
     "name": "stdout",
     "output_type": "stream",
     "text": [
      "MAE: 0.6073646788079079\n",
      "\n",
      "Testing with 60 factors and alpha= 0.0075, beta= 0.03\n"
     ]
    },
    {
     "name": "stderr",
     "output_type": "stream",
     "text": [
      "SGD 1/4: 100%|██████████| 16753799/16753799 [04:43<00:00, 59057.38it/s]\n",
      "SGD 2/4: 100%|██████████| 16753799/16753799 [04:43<00:00, 59179.09it/s]\n",
      "SGD 3/4: 100%|██████████| 16753799/16753799 [04:43<00:00, 59055.18it/s]\n",
      "SGD 4/4: 100%|██████████| 16753799/16753799 [04:43<00:00, 59117.32it/s]\n"
     ]
    },
    {
     "name": "stdout",
     "output_type": "stream",
     "text": [
      "MAE: 0.6063026514691647\n",
      "\n",
      "Testing with 20 factors and alpha= 0.0025, beta= 0.05\n"
     ]
    },
    {
     "name": "stderr",
     "output_type": "stream",
     "text": [
      "SGD 1/4: 100%|██████████| 16753799/16753799 [04:42<00:00, 59332.95it/s]\n",
      "SGD 2/4: 100%|██████████| 16753799/16753799 [04:41<00:00, 59453.35it/s]\n",
      "SGD 3/4: 100%|██████████| 16753799/16753799 [04:42<00:00, 59384.35it/s]\n",
      "SGD 4/4: 100%|██████████| 16753799/16753799 [04:41<00:00, 59536.82it/s]\n"
     ]
    },
    {
     "name": "stdout",
     "output_type": "stream",
     "text": [
      "MAE: 0.6512854452295794\n",
      "\n",
      "Testing with 40 factors and alpha= 0.0025, beta= 0.05\n"
     ]
    },
    {
     "name": "stderr",
     "output_type": "stream",
     "text": [
      "SGD 1/4: 100%|██████████| 16753799/16753799 [04:42<00:00, 59289.42it/s]\n",
      "SGD 2/4: 100%|██████████| 16753799/16753799 [04:42<00:00, 59307.01it/s]\n",
      "SGD 3/4: 100%|██████████| 16753799/16753799 [04:42<00:00, 59322.35it/s]\n",
      "SGD 4/4: 100%|██████████| 16753799/16753799 [04:43<00:00, 59197.16it/s]\n"
     ]
    },
    {
     "name": "stdout",
     "output_type": "stream",
     "text": [
      "MAE: 0.6491447376196191\n",
      "\n",
      "Testing with 60 factors and alpha= 0.0025, beta= 0.05\n"
     ]
    },
    {
     "name": "stderr",
     "output_type": "stream",
     "text": [
      "SGD 1/4: 100%|██████████| 16753799/16753799 [04:44<00:00, 58948.65it/s]\n",
      "SGD 2/4: 100%|██████████| 16753799/16753799 [04:44<00:00, 58931.69it/s]\n",
      "SGD 3/4: 100%|██████████| 16753799/16753799 [04:43<00:00, 59114.94it/s]\n",
      "SGD 4/4: 100%|██████████| 16753799/16753799 [04:44<00:00, 58984.40it/s]\n"
     ]
    },
    {
     "name": "stdout",
     "output_type": "stream",
     "text": [
      "MAE: 0.6476473166753871\n",
      "\n",
      "Testing with 20 factors and alpha= 0.005, beta= 0.05\n"
     ]
    },
    {
     "name": "stderr",
     "output_type": "stream",
     "text": [
      "SGD 1/4: 100%|██████████| 16753799/16753799 [04:41<00:00, 59557.68it/s]\n",
      "SGD 2/4: 100%|██████████| 16753799/16753799 [04:40<00:00, 59676.22it/s]\n",
      "SGD 3/4: 100%|██████████| 16753799/16753799 [04:41<00:00, 59534.73it/s]\n",
      "SGD 4/4: 100%|██████████| 16753799/16753799 [04:40<00:00, 59677.78it/s]\n"
     ]
    },
    {
     "name": "stdout",
     "output_type": "stream",
     "text": [
      "MAE: 0.6251790190240952\n",
      "\n",
      "Testing with 40 factors and alpha= 0.005, beta= 0.05\n"
     ]
    },
    {
     "name": "stderr",
     "output_type": "stream",
     "text": [
      "SGD 1/4: 100%|██████████| 16753799/16753799 [04:42<00:00, 59220.46it/s]\n",
      "SGD 2/4: 100%|██████████| 16753799/16753799 [04:42<00:00, 59356.62it/s]\n",
      "SGD 3/4: 100%|██████████| 16753799/16753799 [04:42<00:00, 59206.11it/s]\n",
      "SGD 4/4: 100%|██████████| 16753799/16753799 [04:42<00:00, 59340.56it/s]\n"
     ]
    },
    {
     "name": "stdout",
     "output_type": "stream",
     "text": [
      "MAE: 0.6225070291490781\n",
      "\n",
      "Testing with 60 factors and alpha= 0.005, beta= 0.05\n"
     ]
    },
    {
     "name": "stderr",
     "output_type": "stream",
     "text": [
      "SGD 1/4: 100%|██████████| 16753799/16753799 [04:44<00:00, 58920.57it/s]\n",
      "SGD 2/4: 100%|██████████| 16753799/16753799 [04:44<00:00, 58973.55it/s]\n",
      "SGD 3/4: 100%|██████████| 16753799/16753799 [04:44<00:00, 58916.05it/s]\n",
      "SGD 4/4: 100%|██████████| 16753799/16753799 [04:43<00:00, 59043.46it/s]\n"
     ]
    },
    {
     "name": "stdout",
     "output_type": "stream",
     "text": [
      "MAE: 0.6219212219599535\n",
      "\n",
      "Testing with 20 factors and alpha= 0.0075, beta= 0.05\n"
     ]
    },
    {
     "name": "stderr",
     "output_type": "stream",
     "text": [
      "SGD 1/4: 100%|██████████| 16753799/16753799 [04:42<00:00, 59329.75it/s]\n",
      "SGD 2/4: 100%|██████████| 16753799/16753799 [04:42<00:00, 59317.98it/s]\n",
      "SGD 3/4: 100%|██████████| 16753799/16753799 [04:42<00:00, 59269.02it/s]\n",
      "SGD 4/4: 100%|██████████| 16753799/16753799 [04:45<00:00, 58757.03it/s]\n"
     ]
    },
    {
     "name": "stdout",
     "output_type": "stream",
     "text": [
      "MAE: 0.6168098460731848\n",
      "\n",
      "Testing with 40 factors and alpha= 0.0075, beta= 0.05\n"
     ]
    },
    {
     "name": "stderr",
     "output_type": "stream",
     "text": [
      "SGD 1/4: 100%|██████████| 16753799/16753799 [04:45<00:00, 58756.02it/s]\n",
      "SGD 2/4: 100%|██████████| 16753799/16753799 [04:45<00:00, 58648.12it/s]\n",
      "SGD 3/4: 100%|██████████| 16753799/16753799 [04:43<00:00, 59048.21it/s]\n",
      "SGD 4/4: 100%|██████████| 16753799/16753799 [04:45<00:00, 58749.91it/s]\n"
     ]
    },
    {
     "name": "stdout",
     "output_type": "stream",
     "text": [
      "MAE: 0.61372797918276\n",
      "\n",
      "Testing with 60 factors and alpha= 0.0075, beta= 0.05\n"
     ]
    },
    {
     "name": "stderr",
     "output_type": "stream",
     "text": [
      "SGD 1/4: 100%|██████████| 16753799/16753799 [04:45<00:00, 58670.36it/s]\n",
      "SGD 2/4: 100%|██████████| 16753799/16753799 [04:47<00:00, 58327.55it/s]\n",
      "SGD 3/4: 100%|██████████| 16753799/16753799 [04:47<00:00, 58334.56it/s]\n",
      "SGD 4/4: 100%|██████████| 16753799/16753799 [04:44<00:00, 58827.85it/s]\n"
     ]
    },
    {
     "name": "stdout",
     "output_type": "stream",
     "text": [
      "MAE: 0.6126971089434843\n",
      "\n"
     ]
    }
   ],
   "source": [
    "\n",
    "import gc\n",
    "\n",
    "iterations = 4\n",
    "alpha = 0.0075\n",
    "num_factors = 60\n",
    "for beta in [0.01, 0.03, 0.05]:\n",
    "    for alpha in [0.0025, 0.005, 0.0075]:\n",
    "        for num_factors in [20, 40, 60]:\n",
    "            print(f\"Testing with {num_factors} factors and alpha= {alpha}, beta= {beta}\")\n",
    "            user_features, item_features = sgd(train_data[0], train_data[1], train_data[2], global_num_users, global_num_items, num_factors, alpha, beta, iterations)\n",
    "            sgd_predictions = predict(user_features, item_features, val_data[0], val_data[1])\n",
    "            sgd_rounded_predictions = round_predictions(sgd_predictions)\n",
    "\n",
    "            truth_ratings = val_data[2]\n",
    "            sgd_mae = calculate_mae(truth_ratings, sgd_rounded_predictions)\n",
    "            print(f\"MAE:\", sgd_mae)\n",
    "            print()\n",
    "            gc.collect()"
   ]
  },
  {
   "cell_type": "code",
   "execution_count": null,
   "metadata": {},
   "outputs": [
    {
     "name": "stdout",
     "output_type": "stream",
     "text": [
      "Testing with 40 factors and alpha= 0.0075, beta= 0.01\n"
     ]
    },
    {
     "name": "stderr",
     "output_type": "stream",
     "text": [
      "SGD 1/10: 100%|██████████| 16753799/16753799 [04:45<00:00, 58713.27it/s]\n",
      "SGD 2/10: 100%|██████████| 16753799/16753799 [04:46<00:00, 58505.60it/s]\n",
      "SGD 3/10: 100%|██████████| 16753799/16753799 [04:46<00:00, 58534.76it/s]\n",
      "SGD 4/10: 100%|██████████| 16753799/16753799 [04:45<00:00, 58653.03it/s]\n",
      "SGD 5/10: 100%|██████████| 16753799/16753799 [04:45<00:00, 58664.29it/s]\n",
      "SGD 6/10: 100%|██████████| 16753799/16753799 [04:46<00:00, 58513.97it/s]\n",
      "SGD 7/10: 100%|██████████| 16753799/16753799 [04:46<00:00, 58499.12it/s]\n",
      "SGD 8/10: 100%|██████████| 16753799/16753799 [04:45<00:00, 58671.02it/s]\n",
      "SGD 9/10: 100%|██████████| 16753799/16753799 [04:46<00:00, 58405.57it/s]\n",
      "SGD 10/10: 100%|██████████| 16753799/16753799 [04:46<00:00, 58547.85it/s]\n"
     ]
    },
    {
     "name": "stdout",
     "output_type": "stream",
     "text": [
      "MAE: 0.5988714146504979\n",
      "\n",
      "Testing with 60 factors and alpha= 0.0075, beta= 0.03\n"
     ]
    },
    {
     "name": "stderr",
     "output_type": "stream",
     "text": [
      "SGD 1/10: 100%|██████████| 16753799/16753799 [04:44<00:00, 58787.60it/s]\n",
      "SGD 2/10: 100%|██████████| 16753799/16753799 [04:46<00:00, 58488.59it/s]\n",
      "SGD 3/10: 100%|██████████| 16753799/16753799 [04:46<00:00, 58459.48it/s]\n",
      "SGD 4/10: 100%|██████████| 16753799/16753799 [04:49<00:00, 57954.58it/s]\n",
      "SGD 5/10: 100%|██████████| 16753799/16753799 [04:47<00:00, 58209.88it/s]\n",
      "SGD 6/10: 100%|██████████| 16753799/16753799 [04:43<00:00, 59048.83it/s]\n",
      "SGD 7/10: 100%|██████████| 16753799/16753799 [04:44<00:00, 58958.53it/s]\n",
      "SGD 8/10: 100%|██████████| 16753799/16753799 [04:44<00:00, 58968.02it/s]\n",
      "SGD 9/10: 100%|██████████| 16753799/16753799 [04:43<00:00, 59131.80it/s]\n",
      "SGD 10/10: 100%|██████████| 16753799/16753799 [04:43<00:00, 59195.12it/s]\n"
     ]
    },
    {
     "name": "stdout",
     "output_type": "stream",
     "text": [
      "MAE: 0.5923512543955683\n",
      "\n",
      "\n"
     ]
    },
    {
     "name": "stderr",
     "output_type": "stream",
     "text": [
      "SGD 1/10: 100%|██████████| 16753799/16753799 [04:45<00:00, 58781.14it/s]\n",
      "SGD 2/10: 100%|██████████| 16753799/16753799 [04:43<00:00, 59038.33it/s]\n",
      "SGD 3/10: 100%|██████████| 16753799/16753799 [04:44<00:00, 58929.47it/s]\n",
      "SGD 4/10: 100%|██████████| 16753799/16753799 [04:43<00:00, 59077.22it/s]\n",
      "SGD 5/10: 100%|██████████| 16753799/16753799 [04:43<00:00, 59027.23it/s]\n",
      "SGD 6/10: 100%|██████████| 16753799/16753799 [04:43<00:00, 59005.30it/s]\n",
      "SGD 7/10: 100%|██████████| 16753799/16753799 [04:43<00:00, 59099.67it/s]\n",
      "SGD 8/10: 100%|██████████| 16753799/16753799 [04:43<00:00, 59040.08it/s]\n",
      "SGD 9/10: 100%|██████████| 16753799/16753799 [04:44<00:00, 58893.92it/s]\n",
      "SGD 10/10: 100%|██████████| 16753799/16753799 [04:44<00:00, 58849.34it/s]\n"
     ]
    },
    {
     "name": "stdout",
     "output_type": "stream",
     "text": [
      "MAE: 0.6060552748432207\n",
      "\n"
     ]
    }
   ],
   "source": [
    "# ensemble best SGD models and average predictions\n",
    "#Testing with 40 factors and alpha= 0.0075, beta= 0.01\n",
    "#SGD 1/4: 100%|██████████| 16753799/16753799 [05:18<00:00, 52647.15it/s]\n",
    "#SGD 2/4: 100%|██████████| 16753799/16753799 [05:19<00:00, 52370.99it/s]\n",
    "#SGD 3/4: 100%|██████████| 16753799/16753799 [05:18<00:00, 52590.12it/s]\n",
    "#SGD 4/4: 100%|██████████| 16753799/16753799 [05:18<00:00, 52597.42it/s]\n",
    "#MAE: 0.6056733317790597\n",
    "\n",
    "num_factors = 40  # Latent factors\n",
    "alpha = 0.0075      # Learning rate\n",
    "beta = 0.01       # Regularization\n",
    "iterations = 10   # Number of iterations\n",
    "\n",
    "# Run SGD\n",
    "print(f\"Testing with {num_factors} factors and alpha= {alpha}, beta= {beta}\")\n",
    "sgd_user_features, sgd_item_features = sgd(train_data[0], train_data[1], train_data[2], global_num_users, global_num_items, num_factors, alpha, beta, iterations)\n",
    "sgd_predictions = predict(sgd_user_features, sgd_item_features, val_data[0], val_data[1])\n",
    "train_pred1 = round_predictions(sgd_predictions)\n",
    "\n",
    "truth_ratings = val_data[2]\n",
    "sgd_mae = calculate_mae(truth_ratings, train_pred1)\n",
    "print(f\"MAE:\", sgd_mae)\n",
    "print()\n",
    "\n",
    "#Testing with 60 factors and alpha= 0.0075, beta= 0.03\n",
    "#SGD 1/4: 100%|██████████| 16753799/16753799 [04:43<00:00, 59057.38it/s]\n",
    "#SGD 2/4: 100%|██████████| 16753799/16753799 [04:43<00:00, 59179.09it/s]\n",
    "#SGD 3/4: 100%|██████████| 16753799/16753799 [04:43<00:00, 59055.18it/s]\n",
    "#SGD 4/4: 100%|██████████| 16753799/16753799 [04:43<00:00, 59117.32it/s]\n",
    "#MAE: 0.6063026514691647\n",
    "\n",
    "num_factors = 60  # Latent factors\n",
    "alpha = 0.0075      # Learning rate\n",
    "beta = 0.03      # Regularization\n",
    "iterations = 10   # Number of iterations\n",
    "\n",
    "# Run SGD\n",
    "print(f\"Testing with {num_factors} factors and alpha= {alpha}, beta= {beta}\")\n",
    "sgd_user_features, sgd_item_features = sgd(train_data[0], train_data[1], train_data[2], global_num_users, global_num_items, num_factors, alpha, beta, iterations)\n",
    "sgd_predictions = predict(sgd_user_features, sgd_item_features, val_data[0], val_data[1])\n",
    "train_pred2 = round_predictions(sgd_predictions)\n",
    "\n",
    "truth_ratings = val_data[2]\n",
    "sgd_mae = calculate_mae(truth_ratings, train_pred2)\n",
    "print(f\"MAE:\", sgd_mae)\n",
    "print()\n",
    "\n",
    "#Testing with 60 factors and alpha= 0.005, beta= 0.01\n",
    "#SGD 1/8: 100%|██████████| 16753799/16753799 [05:24<00:00, 51693.81it/s]\n",
    "#SGD 2/8: 100%|██████████| 16753799/16753799 [05:23<00:00, 51835.93it/s]\n",
    "#SGD 3/8: 100%|██████████| 16753799/16753799 [05:04<00:00, 55013.00it/s]\n",
    "#SGD 4/8: 100%|██████████| 16753799/16753799 [05:05<00:00, 54915.33it/s]\n",
    "#SGD 5/8: 100%|██████████| 16753799/16753799 [05:05<00:00, 54876.24it/s]\n",
    "#SGD 6/8: 100%|██████████| 16753799/16753799 [05:05<00:00, 54828.28it/s]\n",
    "#SGD 7/8: 100%|██████████| 16753799/16753799 [05:05<00:00, 54852.84it/s]\n",
    "#SGD 8/8: 100%|██████████| 16753799/16753799 [05:05<00:00, 54868.92it/s]\n",
    "#MAE: 0.5960490111918451\n",
    "\n",
    "num_factors = 60  # Latent factors\n",
    "alpha = 0.005      # Learning rate\n",
    "beta = 0.01       # Regularization\n",
    "iterations = 8   # Number of iterations\n",
    "\n",
    "# Run SGD\n",
    "print()\n",
    "sgd_user_features, sgd_item_features = sgd(train_data[0], train_data[1], train_data[2], global_num_users, global_num_items, num_factors, alpha, beta, iterations)\n",
    "sgd_predictions = predict(sgd_user_features, sgd_item_features, val_data[0], val_data[1])\n",
    "train_pred3 = round_predictions(sgd_predictions)\n",
    "\n",
    "truth_ratings = val_data[2]\n",
    "sgd_mae = calculate_mae(truth_ratings, train_pred3)\n",
    "print(f\"MAE:\", sgd_mae)\n",
    "print()\n"
   ]
  },
  {
   "cell_type": "code",
   "execution_count": null,
   "metadata": {},
   "outputs": [
    {
     "name": "stdout",
     "output_type": "stream",
     "text": [
      "Testing with 60 factors and alpha= 0.0075, beta= 0.03\n"
     ]
    },
    {
     "name": "stderr",
     "output_type": "stream",
     "text": [
      "SGD 1/2: 100%|██████████| 16753799/16753799 [04:52<00:00, 57228.63it/s]\n",
      "SGD 2/2: 100%|██████████| 16753799/16753799 [04:49<00:00, 57938.57it/s]\n"
     ]
    },
    {
     "name": "stdout",
     "output_type": "stream",
     "text": [
      "MAE: 0.6359013587718516\n",
      "\n"
     ]
    }
   ],
   "source": [
    "# TEST 100K\n",
    "num_factors = 60  # Latent factors\n",
    "alpha = 0.0075      # Learning rate\n",
    "beta = 0.03      # Regularization\n",
    "iterations = 10   # Number of iterations\n",
    "\n",
    "# Run SGD\n",
    "print(f\"Testing with {num_factors} factors and alpha= {alpha}, beta= {beta}\")\n",
    "sgd_user_features, sgd_item_features = sgd(train_data[0], train_data[1], train_data[2], global_num_users, global_num_items, num_factors, alpha, beta, iterations)\n",
    "sgd_predictions = predict(sgd_user_features, sgd_item_features, val_data[0], val_data[1])\n",
    "train_pred2 = round_predictions(sgd_predictions)\n",
    "\n",
    "truth_ratings = val_data[2]\n",
    "sgd_mae = calculate_mae(truth_ratings, train_pred2)\n",
    "print(f\"MAE:\", sgd_mae)\n",
    "print()"
   ]
  },
  {
   "cell_type": "code",
   "execution_count": null,
   "metadata": {},
   "outputs": [
    {
     "name": "stdout",
     "output_type": "stream",
     "text": [
      "Final MAE: 0.6359013587718516\n"
     ]
    }
   ],
   "source": [
    "# Best Run\n",
    "#Testing with 60 factors and alpha= 0.0075, beta= 0.03\n",
    "#SGD 1/10: 100%|██████████| 16753799/16753799 [04:44<00:00, 58787.60it/s]\n",
    "#SGD 2/10: 100%|██████████| 16753799/16753799 [04:46<00:00, 58488.59it/s]\n",
    "#SGD 3/10: 100%|██████████| 16753799/16753799 [04:46<00:00, 58459.48it/s]\n",
    "#SGD 4/10: 100%|██████████| 16753799/16753799 [04:49<00:00, 57954.58it/s]\n",
    "#SGD 5/10: 100%|██████████| 16753799/16753799 [04:47<00:00, 58209.88it/s]\n",
    "#SGD 6/10: 100%|██████████| 16753799/16753799 [04:43<00:00, 59048.83it/s]\n",
    "#SGD 7/10: 100%|██████████| 16753799/16753799 [04:44<00:00, 58958.53it/s]\n",
    "#SGD 8/10: 100%|██████████| 16753799/16753799 [04:44<00:00, 58968.02it/s]\n",
    "#SGD 9/10: 100%|██████████| 16753799/16753799 [04:43<00:00, 59131.80it/s]\n",
    "#SGD 10/10: 100%|██████████| 16753799/16753799 [04:43<00:00, 59195.12it/s]\n",
    "#MAE: 0.5923512543955683\n",
    "final_mae = calculate_mae(truth_ratings, train_pred2)\n",
    "print(f\"Final MAE:\", final_mae)"
   ]
  },
  {
   "cell_type": "markdown",
   "metadata": {},
   "source": [
    "# Test Set and Submission "
   ]
  },
  {
   "cell_type": "code",
   "execution_count": 8,
   "metadata": {},
   "outputs": [
    {
     "name": "stdout",
     "output_type": "stream",
     "text": [
      "Loaded database\n",
      "Fetching data ...\n",
      "Missing IDs: {22144, 23296, 24321, 24961, 18693, 20103, 20615, 25353, 18955, 24715, 21904, 16145, 24976, 19731, 12054, 10648, 24985, 21532, 23068, 25894, 22316, 14382, 24244, 20283, 16189, 25663, 25280, 24769, 24642, 26692, 25289, 26569, 25292, 23502, 13906, 20179, 22482, 25691, 24284, 24796, 21598, 23009, 24803, 24294, 23278, 16751, 22127, 22129, 25329, 26357, 15862, 25978, 21499, 23676}\n",
      "Test data size:  1384930\n",
      "All data size:  18615333\n",
      "Ratio All Data / Test: 0.07439727239904868\n",
      "Ratio Train / Val: 0.11111115753507607\n",
      "Num users: 138493\n",
      "Num items: 12864\n"
     ]
    }
   ],
   "source": [
    "# import test set\n",
    "\n",
    "# load test set\n",
    "def load_test(db_path):\n",
    "    conn = sqlite3.connect(db_path)\n",
    "    print(\"Loaded database\")\n",
    "\n",
    "    c = conn.cursor()\n",
    "    print(\"Fetching data ...\")\n",
    "    c.execute('SELECT UserID, ItemID, TimeStamp FROM example_table')\n",
    "    data = c.fetchall()\n",
    "    conn.close()\n",
    "\n",
    "    test_user_indices, test_item_indices, timestamps = zip(*data)\n",
    "\n",
    "    return np.array(test_user_indices, dtype=np.int32), np.array(test_item_indices, dtype=np.int32), np.array(timestamps, dtype=np.int32)\n",
    "\n",
    "def vectorize_indices(indices, mapping):\n",
    "    missing_ids = [id for id in indices if id not in mapping]\n",
    "    if missing_ids:\n",
    "        print(f\"Missing IDs: {set(missing_ids)}\")\n",
    "    \n",
    "    vectorized_indices = np.array([mapping[id] if id in mapping else -1 for id in indices])\n",
    "\n",
    "    return vectorized_indices, set(missing_ids)\n",
    "\n",
    "# 20M dataset\n",
    "test_dir_20M = '../../data/dataset2/test_20M.db'\n",
    "\n",
    "# 100k dataset\n",
    "test_dir_100K = '../../data/dataset1/test_100k.db'\n",
    "\n",
    "   \n",
    "# Load the dataset (excluding the header if present)\n",
    "test_user_indices, test_item_indices, timestamps = load_test(test_dir_20M)\n",
    "test_data = (test_user_indices, test_item_indices, timestamps)\n",
    "\n",
    "test_user_indices_normalized, missing_users = vectorize_indices(test_user_indices, user_to_norm)\n",
    "test_item_indices_normalized, missing_items = vectorize_indices(test_item_indices, item_to_norm)\n",
    "\n",
    "print(\"Test data size: \", len(test_data[0]))\n",
    "print(\"All data size: \", len(all_data[0]))\n",
    "print(\"Ratio All Data / Test:\", len(test_data[0]) / len(all_data[0]))\n",
    "print(\"Ratio Train / Val:\", len(val_data[0]) / len(train_data[0]))\n",
    "\n",
    "print(\"Num users:\", len(np.unique(test_user_indices_normalized)))\n",
    "print(\"Num items:\", len(np.unique(test_item_indices_normalized)))"
   ]
  },
  {
   "cell_type": "code",
   "execution_count": 9,
   "metadata": {},
   "outputs": [
    {
     "name": "stderr",
     "output_type": "stream",
     "text": [
      "SGD 1/140: 100%|██████████| 18615333/18615333 [06:34<00:00, 47204.41it/s]\n",
      "SGD 2/140: 100%|██████████| 18615333/18615333 [06:31<00:00, 47590.42it/s]\n",
      "SGD 3/140: 100%|██████████| 18615333/18615333 [06:33<00:00, 47350.00it/s]\n",
      "SGD 4/140: 100%|██████████| 18615333/18615333 [06:33<00:00, 47337.55it/s]\n",
      "SGD 5/140: 100%|██████████| 18615333/18615333 [06:31<00:00, 47532.87it/s]\n",
      "SGD 6/140: 100%|██████████| 18615333/18615333 [06:31<00:00, 47567.55it/s]\n",
      "SGD 7/140: 100%|██████████| 18615333/18615333 [06:33<00:00, 47315.03it/s]\n",
      "SGD 8/140: 100%|██████████| 18615333/18615333 [06:31<00:00, 47580.56it/s]\n",
      "SGD 9/140: 100%|██████████| 18615333/18615333 [06:32<00:00, 47413.24it/s]\n",
      "SGD 10/140: 100%|██████████| 18615333/18615333 [06:33<00:00, 47362.21it/s]\n",
      "SGD 11/140: 100%|██████████| 18615333/18615333 [06:30<00:00, 47714.18it/s]\n",
      "SGD 12/140: 100%|██████████| 18615333/18615333 [06:31<00:00, 47552.81it/s]\n",
      "SGD 13/140: 100%|██████████| 18615333/18615333 [06:32<00:00, 47472.23it/s]\n",
      "SGD 14/140: 100%|██████████| 18615333/18615333 [06:31<00:00, 47571.33it/s]\n",
      "SGD 15/140: 100%|██████████| 18615333/18615333 [06:30<00:00, 47642.59it/s]\n",
      "SGD 16/140: 100%|██████████| 18615333/18615333 [06:30<00:00, 47624.65it/s]\n",
      "SGD 17/140: 100%|██████████| 18615333/18615333 [06:30<00:00, 47654.85it/s]\n",
      "SGD 18/140: 100%|██████████| 18615333/18615333 [06:31<00:00, 47577.33it/s]\n",
      "SGD 19/140: 100%|██████████| 18615333/18615333 [06:30<00:00, 47637.97it/s]\n",
      "SGD 20/140: 100%|██████████| 18615333/18615333 [06:32<00:00, 47427.10it/s]\n",
      "SGD 21/140: 100%|██████████| 18615333/18615333 [06:32<00:00, 47469.10it/s]\n",
      "SGD 22/140: 100%|██████████| 18615333/18615333 [06:29<00:00, 47834.21it/s]\n",
      "SGD 23/140: 100%|██████████| 18615333/18615333 [06:30<00:00, 47699.01it/s]\n",
      "SGD 24/140: 100%|██████████| 18615333/18615333 [06:29<00:00, 47768.01it/s]\n",
      "SGD 25/140: 100%|██████████| 18615333/18615333 [06:31<00:00, 47571.06it/s]\n",
      "SGD 26/140: 100%|██████████| 18615333/18615333 [06:30<00:00, 47651.01it/s]\n",
      "SGD 27/140: 100%|██████████| 18615333/18615333 [06:30<00:00, 47636.83it/s]\n",
      "SGD 28/140: 100%|██████████| 18615333/18615333 [06:31<00:00, 47555.38it/s]\n",
      "SGD 29/140: 100%|██████████| 18615333/18615333 [06:31<00:00, 47600.05it/s]\n",
      "SGD 30/140: 100%|██████████| 18615333/18615333 [06:30<00:00, 47641.06it/s]\n",
      "SGD 31/140: 100%|██████████| 18615333/18615333 [06:33<00:00, 47354.27it/s]\n",
      "SGD 32/140: 100%|██████████| 18615333/18615333 [06:32<00:00, 47464.71it/s]\n",
      "SGD 33/140: 100%|██████████| 18615333/18615333 [06:30<00:00, 47717.59it/s]\n",
      "SGD 34/140: 100%|██████████| 18615333/18615333 [06:31<00:00, 47583.15it/s]\n",
      "SGD 35/140: 100%|██████████| 18615333/18615333 [06:29<00:00, 47749.30it/s]\n",
      "SGD 36/140: 100%|██████████| 18615333/18615333 [06:31<00:00, 47543.32it/s]\n",
      "SGD 37/140: 100%|██████████| 18615333/18615333 [06:31<00:00, 47547.18it/s]\n",
      "SGD 38/140: 100%|██████████| 18615333/18615333 [06:30<00:00, 47624.24it/s]\n",
      "SGD 39/140: 100%|██████████| 18615333/18615333 [06:31<00:00, 47551.13it/s]\n",
      "SGD 40/140: 100%|██████████| 18615333/18615333 [06:31<00:00, 47571.87it/s]\n",
      "SGD 41/140: 100%|██████████| 18615333/18615333 [06:32<00:00, 47486.62it/s]\n",
      "SGD 42/140: 100%|██████████| 18615333/18615333 [06:32<00:00, 47456.03it/s]\n",
      "SGD 43/140: 100%|██████████| 18615333/18615333 [06:30<00:00, 47660.41it/s]\n",
      "SGD 44/140: 100%|██████████| 18615333/18615333 [06:31<00:00, 47604.84it/s]\n",
      "SGD 45/140: 100%|██████████| 18615333/18615333 [06:31<00:00, 47528.64it/s]\n",
      "SGD 46/140: 100%|██████████| 18615333/18615333 [06:31<00:00, 47563.02it/s]\n",
      "SGD 47/140: 100%|██████████| 18615333/18615333 [06:30<00:00, 47620.06it/s]\n",
      "SGD 48/140: 100%|██████████| 18615333/18615333 [06:30<00:00, 47630.46it/s]\n",
      "SGD 49/140: 100%|██████████| 18615333/18615333 [06:31<00:00, 47591.43it/s]\n",
      "SGD 50/140: 100%|██████████| 18615333/18615333 [06:32<00:00, 47414.08it/s]\n",
      "SGD 51/140: 100%|██████████| 18615333/18615333 [06:30<00:00, 47617.55it/s]\n",
      "SGD 52/140: 100%|██████████| 18615333/18615333 [06:31<00:00, 47489.40it/s]\n",
      "SGD 53/140: 100%|██████████| 18615333/18615333 [06:32<00:00, 47475.27it/s]\n",
      "SGD 54/140: 100%|██████████| 18615333/18615333 [06:22<00:00, 48672.20it/s]\n",
      "SGD 55/140: 100%|██████████| 18615333/18615333 [05:35<00:00, 55513.50it/s]\n",
      "SGD 56/140: 100%|██████████| 18615333/18615333 [05:33<00:00, 55857.95it/s]\n",
      "SGD 57/140: 100%|██████████| 18615333/18615333 [05:32<00:00, 55971.64it/s]\n",
      "SGD 58/140: 100%|██████████| 18615333/18615333 [05:32<00:00, 55933.23it/s]\n",
      "SGD 59/140: 100%|██████████| 18615333/18615333 [05:32<00:00, 56002.46it/s]\n",
      "SGD 60/140: 100%|██████████| 18615333/18615333 [05:32<00:00, 55921.42it/s]\n",
      "SGD 61/140: 100%|██████████| 18615333/18615333 [05:33<00:00, 55881.26it/s]\n",
      "SGD 62/140: 100%|██████████| 18615333/18615333 [05:32<00:00, 55961.86it/s]\n",
      "SGD 63/140: 100%|██████████| 18615333/18615333 [05:33<00:00, 55848.95it/s]\n",
      "SGD 64/140: 100%|██████████| 18615333/18615333 [05:32<00:00, 55926.30it/s]\n",
      "SGD 65/140: 100%|██████████| 18615333/18615333 [05:33<00:00, 55893.37it/s]\n",
      "SGD 66/140: 100%|██████████| 18615333/18615333 [05:32<00:00, 55993.35it/s]\n",
      "SGD 67/140: 100%|██████████| 18615333/18615333 [05:32<00:00, 56040.74it/s]\n",
      "SGD 68/140: 100%|██████████| 18615333/18615333 [05:32<00:00, 56035.80it/s]\n",
      "SGD 69/140: 100%|██████████| 18615333/18615333 [05:32<00:00, 55934.10it/s]\n",
      "SGD 70/140: 100%|██████████| 18615333/18615333 [05:32<00:00, 55991.34it/s]\n",
      "SGD 71/140: 100%|██████████| 18615333/18615333 [05:32<00:00, 55954.96it/s]\n",
      "SGD 72/140: 100%|██████████| 18615333/18615333 [05:32<00:00, 55985.11it/s]\n",
      "SGD 73/140: 100%|██████████| 18615333/18615333 [05:32<00:00, 55948.92it/s]\n",
      "SGD 74/140: 100%|██████████| 18615333/18615333 [05:32<00:00, 55966.97it/s]\n",
      "SGD 75/140: 100%|██████████| 18615333/18615333 [05:33<00:00, 55855.07it/s]\n",
      "SGD 76/140: 100%|██████████| 18615333/18615333 [05:32<00:00, 55971.04it/s]\n",
      "SGD 77/140: 100%|██████████| 18615333/18615333 [05:32<00:00, 55933.15it/s]\n",
      "SGD 78/140: 100%|██████████| 18615333/18615333 [05:32<00:00, 55906.17it/s]\n",
      "SGD 79/140: 100%|██████████| 18615333/18615333 [05:32<00:00, 55978.07it/s]\n",
      "SGD 80/140: 100%|██████████| 18615333/18615333 [05:32<00:00, 55952.57it/s]\n",
      "SGD 81/140: 100%|██████████| 18615333/18615333 [05:33<00:00, 55887.05it/s]\n",
      "SGD 82/140: 100%|██████████| 18615333/18615333 [05:33<00:00, 55867.09it/s]\n",
      "SGD 83/140: 100%|██████████| 18615333/18615333 [05:32<00:00, 55976.77it/s]\n",
      "SGD 84/140: 100%|██████████| 18615333/18615333 [05:31<00:00, 56112.93it/s]\n",
      "SGD 85/140: 100%|██████████| 18615333/18615333 [05:32<00:00, 55946.34it/s]\n",
      "SGD 86/140: 100%|██████████| 18615333/18615333 [05:32<00:00, 55931.34it/s]\n",
      "SGD 87/140: 100%|██████████| 18615333/18615333 [05:33<00:00, 55857.86it/s]\n",
      "SGD 88/140: 100%|██████████| 18615333/18615333 [05:32<00:00, 55958.94it/s]\n",
      "SGD 89/140: 100%|██████████| 18615333/18615333 [05:33<00:00, 55818.85it/s]\n",
      "SGD 90/140: 100%|██████████| 18615333/18615333 [05:32<00:00, 55942.51it/s]\n",
      "SGD 91/140: 100%|██████████| 18615333/18615333 [05:32<00:00, 55957.15it/s]\n",
      "SGD 92/140: 100%|██████████| 18615333/18615333 [05:32<00:00, 55919.62it/s]\n",
      "SGD 93/140: 100%|██████████| 18615333/18615333 [05:32<00:00, 55972.34it/s]\n",
      "SGD 94/140: 100%|██████████| 18615333/18615333 [05:32<00:00, 55969.51it/s]\n",
      "SGD 95/140: 100%|██████████| 18615333/18615333 [05:30<00:00, 56262.80it/s]\n",
      "SGD 96/140: 100%|██████████| 18615333/18615333 [05:32<00:00, 56032.63it/s]\n",
      "SGD 97/140: 100%|██████████| 18615333/18615333 [05:31<00:00, 56090.78it/s]\n",
      "SGD 98/140: 100%|██████████| 18615333/18615333 [05:32<00:00, 55909.16it/s]\n",
      "SGD 99/140: 100%|██████████| 18615333/18615333 [05:31<00:00, 56078.97it/s]\n",
      "SGD 100/140: 100%|██████████| 18615333/18615333 [05:32<00:00, 56050.67it/s]\n",
      "SGD 101/140: 100%|██████████| 18615333/18615333 [05:32<00:00, 56068.59it/s]\n",
      "SGD 102/140: 100%|██████████| 18615333/18615333 [05:42<00:00, 54320.78it/s]\n",
      "SGD 103/140: 100%|██████████| 18615333/18615333 [05:45<00:00, 53901.42it/s]\n",
      "SGD 104/140: 100%|██████████| 18615333/18615333 [05:40<00:00, 54598.83it/s]\n",
      "SGD 105/140: 100%|██████████| 18615333/18615333 [05:42<00:00, 54394.23it/s]\n",
      "SGD 106/140: 100%|██████████| 18615333/18615333 [05:34<00:00, 55659.36it/s]\n",
      "SGD 107/140: 100%|██████████| 18615333/18615333 [05:35<00:00, 55451.81it/s]\n",
      "SGD 108/140: 100%|██████████| 18615333/18615333 [05:36<00:00, 55267.98it/s]\n",
      "SGD 109/140: 100%|██████████| 18615333/18615333 [05:36<00:00, 55303.02it/s]\n",
      "SGD 110/140: 100%|██████████| 18615333/18615333 [05:37<00:00, 55233.67it/s]\n",
      "SGD 111/140: 100%|██████████| 18615333/18615333 [05:37<00:00, 55230.06it/s]\n",
      "SGD 112/140: 100%|██████████| 18615333/18615333 [05:56<00:00, 52188.71it/s]\n",
      "SGD 113/140: 100%|██████████| 18615333/18615333 [06:10<00:00, 50179.77it/s]\n",
      "SGD 114/140: 100%|██████████| 18615333/18615333 [06:10<00:00, 50252.83it/s]\n",
      "SGD 115/140: 100%|██████████| 18615333/18615333 [06:11<00:00, 50137.30it/s]\n",
      "SGD 116/140: 100%|██████████| 18615333/18615333 [06:10<00:00, 50230.29it/s]\n",
      "SGD 117/140: 100%|██████████| 18615333/18615333 [06:10<00:00, 50298.67it/s]\n",
      "SGD 118/140: 100%|██████████| 18615333/18615333 [06:09<00:00, 50353.46it/s]\n",
      "SGD 119/140: 100%|██████████| 18615333/18615333 [05:37<00:00, 55167.54it/s]\n",
      "SGD 120/140: 100%|██████████| 18615333/18615333 [05:36<00:00, 55312.39it/s]\n",
      "SGD 121/140: 100%|██████████| 18615333/18615333 [05:37<00:00, 55135.03it/s]\n",
      "SGD 122/140: 100%|██████████| 18615333/18615333 [05:43<00:00, 54115.62it/s]\n",
      "SGD 123/140: 100%|██████████| 18615333/18615333 [05:48<00:00, 53477.38it/s]\n",
      "SGD 124/140: 100%|██████████| 18615333/18615333 [05:44<00:00, 53980.55it/s]\n",
      "SGD 125/140: 100%|██████████| 18615333/18615333 [05:38<00:00, 54951.33it/s]\n",
      "SGD 126/140: 100%|██████████| 18615333/18615333 [05:37<00:00, 55194.72it/s]\n",
      "SGD 127/140: 100%|██████████| 18615333/18615333 [05:39<00:00, 54912.22it/s]\n",
      "SGD 128/140: 100%|██████████| 18615333/18615333 [05:38<00:00, 54982.85it/s]\n",
      "SGD 129/140: 100%|██████████| 18615333/18615333 [05:37<00:00, 55137.29it/s]\n",
      "SGD 130/140: 100%|██████████| 18615333/18615333 [05:37<00:00, 55184.28it/s]\n",
      "SGD 131/140: 100%|██████████| 18615333/18615333 [05:37<00:00, 55174.62it/s]\n",
      "SGD 132/140: 100%|██████████| 18615333/18615333 [05:43<00:00, 54239.50it/s]\n",
      "SGD 133/140: 100%|██████████| 18615333/18615333 [06:09<00:00, 50378.00it/s]\n",
      "SGD 134/140: 100%|██████████| 18615333/18615333 [06:10<00:00, 50246.05it/s]\n",
      "SGD 135/140: 100%|██████████| 18615333/18615333 [06:10<00:00, 50290.28it/s]\n",
      "SGD 136/140: 100%|██████████| 18615333/18615333 [06:10<00:00, 50250.91it/s]\n",
      "SGD 137/140: 100%|██████████| 18615333/18615333 [06:09<00:00, 50330.27it/s]\n",
      "SGD 138/140: 100%|██████████| 18615333/18615333 [06:10<00:00, 50296.79it/s]\n",
      "SGD 139/140: 100%|██████████| 18615333/18615333 [05:52<00:00, 52784.59it/s]\n",
      "SGD 140/140: 100%|██████████| 18615333/18615333 [05:38<00:00, 54944.53it/s]\n"
     ]
    }
   ],
   "source": [
    "# Run SGD on all data\n",
    "#num_factors = 20  # Latent factors\n",
    "#alpha = 0.0075      # Learning rate\n",
    "#beta = 0.125       # Regularization\n",
    "#iterations = 20 \n",
    "\n",
    "num_factors = 200  # Latent factors\n",
    "alpha = 0.002      # Learning rate\n",
    "beta = 0.05      # Regularization\n",
    "iterations = 140  # Number of iterations\n",
    "\n",
    "sgd_user_factors, sgd_item_factors = sgd(all_data[0], all_data[1], all_data[2], global_num_users, global_num_items, num_factors, alpha, beta, iterations)\n",
    "\n",
    "\n"
   ]
  },
  {
   "cell_type": "code",
   "execution_count": 10,
   "metadata": {},
   "outputs": [],
   "source": [
    "default_prediction_value = 3 # Midpoint between 0.5 and 5.0, adjust as needed\n",
    "\n",
    "# Assuming you have a function `make_predictions` that uses your model\n",
    "predictions = predict(sgd_user_factors, sgd_item_factors, test_user_indices_normalized, test_item_indices_normalized)\n",
    "\n",
    "# Replace predictions for missing indices with the default value\n",
    "predictions[test_item_indices_normalized == -1] = default_prediction_value\n",
    "\n"
   ]
  },
  {
   "cell_type": "code",
   "execution_count": 14,
   "metadata": {},
   "outputs": [],
   "source": [
    "def realign_predictions(original_user_indices, original_item_indices, normalized_user_indices, normalized_item_indices, predictions, default_value=3.0):\n",
    "    # Initialize the aligned predictions array with the default value\n",
    "    aligned_predictions = np.full(original_user_indices.shape, default_value, dtype=float)\n",
    "\n",
    "    # Create a mapping from normalized indices back to original positions\n",
    "    # This map should be built from the normalized indices, not from the original indices directly.\n",
    "    norm_to_orig_map = {}\n",
    "    for idx, (norm_u, norm_i) in enumerate(zip(normalized_user_indices, normalized_item_indices)):\n",
    "        if (norm_u, norm_i) not in norm_to_orig_map:  # avoid overriding if multiple original indices map to the same normalized index\n",
    "            norm_to_orig_map[(norm_u, norm_i)] = idx\n",
    "\n",
    "    # Use this map to assign predictions to their corresponding original indices\n",
    "    for idx in range(len(predictions)):\n",
    "        norm_u = normalized_user_indices[idx]\n",
    "        norm_i = normalized_item_indices[idx]\n",
    "        if (norm_u, norm_i) in norm_to_orig_map:\n",
    "            orig_idx = norm_to_orig_map[(norm_u, norm_i)]\n",
    "            aligned_predictions[orig_idx] = predictions[idx]\n",
    "\n",
    "    return aligned_predictions\n",
    "\n",
    "# Now call this function to realign your predictions\n",
    "aligned_predictions = realign_predictions(test_user_indices, test_item_indices, test_user_indices_normalized, test_item_indices_normalized, predictions)\n",
    "\n",
    "# Round the predictions to the nearest 0.5\n",
    "final_predictions = round_predictions(aligned_predictions)\n"
   ]
  },
  {
   "cell_type": "code",
   "execution_count": 15,
   "metadata": {},
   "outputs": [],
   "source": [
    "def save_predictions_to_csv(user_ids, item_ids, predictions, timestamps, filename):\n",
    "    # Ensure all parts are numpy arrays (in case they are not)\n",
    "    user_ids = np.array(user_ids)\n",
    "    item_ids = np.array(item_ids)\n",
    "    predictions = np.array(predictions)\n",
    "    timestamps = np.array(timestamps)\n",
    "    \n",
    "    # Stack the arrays horizontally\n",
    "    data_to_save = np.column_stack((user_ids, item_ids, predictions, timestamps))\n",
    "        \n",
    "    # Save to CSV\n",
    "    np.savetxt(filename, data_to_save, delimiter=',', fmt='%d,%d,%.1f,%d')\n",
    "\n",
    "path = 'Official_submission/results_140_int.csv'\n",
    "save_predictions_to_csv(test_user_indices, test_item_indices, final_predictions, timestamps, path)\n"
   ]
  }
 ],
 "metadata": {
  "kernelspec": {
   "display_name": "soc-cmp",
   "language": "python",
   "name": "python3"
  },
  "language_info": {
   "codemirror_mode": {
    "name": "ipython",
    "version": 3
   },
   "file_extension": ".py",
   "mimetype": "text/x-python",
   "name": "python",
   "nbconvert_exporter": "python",
   "pygments_lexer": "ipython3",
   "version": "3.11.9"
  }
 },
 "nbformat": 4,
 "nbformat_minor": 2
}
